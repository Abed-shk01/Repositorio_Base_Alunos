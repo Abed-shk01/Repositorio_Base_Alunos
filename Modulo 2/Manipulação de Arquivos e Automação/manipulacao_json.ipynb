{
 "cells": [
  {
   "cell_type": "markdown",
   "id": "19741cd4",
   "metadata": {},
   "source": [
    "# JSON\n"
   ]
  },
  {
   "cell_type": "markdown",
   "id": "ee196af6",
   "metadata": {},
   "source": [
    "O JSON é um formato que armazena informações na forma de código-fonte Javaescript em arquivos com formato de texto simples.\n",
    "(JSON ée a abreviatura de Javaescript object nation, ou notação de ojetos do javaescript). Não é necessario conhecer a linguagem do java para usar o JSON, porém é util conhecer esse formato pois o JSON é usado em diversas aplicaçoes web.\n",
    "Ele pode conter valores somente dos swguintes tipos de dados \n",
    "- strings (texto)\n",
    "- inteiros \n",
    "- pontos flutuantes (floot)\n",
    "- boleanos \n",
    "- listas\n",
    "- dicionarios\n",
    "- nonetype(vazio)"
   ]
  },
  {
   "cell_type": "code",
   "execution_count": 1,
   "id": "1ba9428c",
   "metadata": {},
   "outputs": [],
   "source": [
    "import json"
   ]
  },
  {
   "cell_type": "markdown",
   "id": "6e2a08fa",
   "metadata": {},
   "source": [
    "# Criando um arwuivo JSON do zero"
   ]
  },
  {
   "cell_type": "code",
   "execution_count": 5,
   "id": "1b87e2e5",
   "metadata": {},
   "outputs": [],
   "source": [
    "# Dicionario python \n",
    "dados = {\n",
    "    'nome': 'Maria',\n",
    "    'idade': 30,\n",
    "    'cursos':['python','machine learning']\n",
    "   \n",
    "}\n",
    "with open('dados.json', 'w', encoding='utf-8') as arquivo:\n",
    "    json.dump(dados, arquivo, indent=4, ensure_ascii=False)"
   ]
  },
  {
   "cell_type": "markdown",
   "id": "ead211b9",
   "metadata": {},
   "source": [
    "# Lendo um arwiuvo JSON"
   ]
  },
  {
   "cell_type": "code",
   "execution_count": 8,
   "id": "eac6a202",
   "metadata": {},
   "outputs": [
    {
     "name": "stdout",
     "output_type": "stream",
     "text": [
      "{'nome': 'Maria', 'idade': 30, 'cursos': ['python', 'machine learning']}\n",
      "<class 'dict'>\n"
     ]
    }
   ],
   "source": [
    "with open('dados.json', 'r', encoding='utf-8') as arquivo:\n",
    "    dados = json.load(arquivo)\n",
    "print(dados)\n",
    "print(type(dados))\n"
   ]
  },
  {
   "cell_type": "markdown",
   "id": "7a1d0e66",
   "metadata": {},
   "source": [
    "# Convertendo um objeto em uma string JSON"
   ]
  },
  {
   "cell_type": "code",
   "execution_count": null,
   "id": "e79210e5",
   "metadata": {},
   "outputs": [
    {
     "name": "stdout",
     "output_type": "stream",
     "text": [
      "{\n",
      "  \"nome\": \"João\",\n",
      "  \"idade\": 15,\n",
      "  \"Ativo\": true\n",
      "}\n",
      "<class 'str'>\n"
     ]
    }
   ],
   "source": [
    "dados = {\n",
    "    'nome': 'João',\n",
    "    'idade': 15,\n",
    "    'Ativo': True\n",
    "   \n",
    "}\n",
    "json.str = json.dumps(dados, indent=2, ensure_ascii= False)\n",
    "print(json.str)\n",
    "print(type(json.str))\n",
    "\n",
    "# json.dumps() = converte um objeto py em uma string em formato JSON"
   ]
  }
 ],
 "metadata": {
  "kernelspec": {
   "display_name": "Python 3",
   "language": "python",
   "name": "python3"
  },
  "language_info": {
   "codemirror_mode": {
    "name": "ipython",
    "version": 3
   },
   "file_extension": ".py",
   "mimetype": "text/x-python",
   "name": "python",
   "nbconvert_exporter": "python",
   "pygments_lexer": "ipython3",
   "version": "3.13.2"
  }
 },
 "nbformat": 4,
 "nbformat_minor": 5
}
