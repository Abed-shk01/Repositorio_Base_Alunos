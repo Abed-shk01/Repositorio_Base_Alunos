{
 "cells": [
  {
   "cell_type": "markdown",
   "id": "d6a9da3b",
   "metadata": {},
   "source": [
    "# CSV\n"
   ]
  },
  {
   "cell_type": "markdown",
   "id": "1d50009b",
   "metadata": {},
   "source": [
    "CSV (Comma-Separated Values) é um formato de arquivo de texto simples usado para armazenar dados em formato de tabela, onde:\n",
    "-Cada linha representa um registro\n",
    "-Cada coluna é separada por vírgulas (ou outro delimitador)\n",
    "-Pode ser aberto por excel, google sheets, pandas etc\n",
    "Exemplo de conteúdo de um aluno.csv:\n",
    "nome,idade,curso maria, 30, João 25, Data science\n",
    "o módulo csv permite ler e escrever arquivos csv facilmente. ele oferece duas formas principais\n",
    "\n",
    "-usando listas como csv,reader() e csv.writer()\n",
    "-usando dicionarios coms csv.Dicreader e csv.Dicwrter"
   ]
  },
  {
   "cell_type": "code",
   "execution_count": 2,
   "id": "104d08cd",
   "metadata": {},
   "outputs": [],
   "source": [
    "import csv"
   ]
  },
  {
   "cell_type": "markdown",
   "id": "56555421",
   "metadata": {},
   "source": [
    "# Criar um csv com .write()"
   ]
  },
  {
   "cell_type": "code",
   "execution_count": 3,
   "id": "5087ae4c",
   "metadata": {},
   "outputs": [],
   "source": [
    "# 1 Criar um csv com o csv.write()\n",
    "\n",
    "dados = [\n",
    "    ['nome', 'idade', 'curso'],\n",
    "    ['Maria', 30, 'python'],\n",
    "    ['João', 25, 'Data science']\n",
    "]\n",
    "\n",
    "# Abrir o arquivo em modo escrita ('w), com encoding e newline= ''Arithimeticerror\n",
    "with open('alunos.csv', 'w', newline='', encoding='utf-8') as arquivo:\n",
    "    # criamos um objeto 'write' que é o escrior de um arquivo csv.\n",
    "    # ele é responsavel por transformar listas em linhas no arqiuvo csv\n",
    "\n",
    "    escritor = csv.writer(arquivo)\n",
    "    # escrever todas as linhas de lista 'dados' de uma vez, .writewros é um método do objetp escritor\n",
    "    escritor.writerows(dados)"
   ]
  },
  {
   "cell_type": "markdown",
   "id": "606edee1",
   "metadata": {},
   "source": [
    "Observação sobre o uso de newline+''\n",
    "Sempre use newline='' ao abrir o arquivocom open() para evitar quebras de linhas duplicadas  principalmente no windows"
   ]
  },
  {
   "cell_type": "markdown",
   "id": "82bb463d",
   "metadata": {},
   "source": [
    "# Ler CSV com csv.reader()\n"
   ]
  },
  {
   "cell_type": "code",
   "execution_count": 5,
   "id": "d2609d8d",
   "metadata": {},
   "outputs": [
    {
     "name": "stdout",
     "output_type": "stream",
     "text": [
      "['nome', 'idade', 'curso']\n",
      "['Maria', '30', 'python']\n",
      "['João', '25', 'Data science']\n"
     ]
    }
   ],
   "source": [
    "with open('alunos.csv', 'r', encoding='utf-8') as arquivo:\n",
    "    leitor = csv.reader(arquivo)\n",
    "    for linha in leitor:\n",
    "        print(linha)"
   ]
  },
  {
   "cell_type": "markdown",
   "id": "fa2b8e2e",
   "metadata": {},
   "source": [
    "# Lendo com dicionário com csv.DictReader()\n"
   ]
  },
  {
   "cell_type": "code",
   "execution_count": 6,
   "id": "1017ab29",
   "metadata": {},
   "outputs": [
    {
     "name": "stdout",
     "output_type": "stream",
     "text": [
      "{'nome': 'Maria', 'idade': '30', 'curso': 'python'}\n",
      "{'nome': 'João', 'idade': '25', 'curso': 'Data science'}\n"
     ]
    }
   ],
   "source": [
    "with open('alunos.csv', 'r', encoding='utf-8') as arquivo:\n",
    "    leitor = csv.DictReader(arquivo)\n",
    "    for linha in leitor:\n",
    "        print(linha)\n",
    "\n"
   ]
  },
  {
   "cell_type": "markdown",
   "id": "c4149d90",
   "metadata": {},
   "source": [
    "# Adicionando uma linha ao CSV"
   ]
  },
  {
   "cell_type": "code",
   "execution_count": 7,
   "id": "dc4c7b40",
   "metadata": {},
   "outputs": [],
   "source": [
    "nova_linha= ['Fernando', 27, 'Bando de dados']\n",
    "dados = [\n",
    "    ['nome', 'idade', 'curso'],\n",
    "    ['Maria', 30, 'python'],\n",
    "    ['João', 25, 'Data science']\n",
    "]\n",
    "\n",
    "with open('alunos.csv', 'a', newline='', encoding='utf-8') as arquivo:\n",
    "    escritor = csv.writer(arquivo)\n",
    "    escritor.writerow(nova_linha)"
   ]
  },
  {
   "cell_type": "markdown",
   "id": "fe9090cc",
   "metadata": {},
   "source": [
    "# Importante!"
   ]
  },
  {
   "cell_type": "markdown",
   "id": "ea7669b7",
   "metadata": {},
   "source": [
    "Os modos de grvação ('w) e ('a) são diferentes.\n",
    "('w') WRITE cria o arquivo se não existir se exisrtir ele substitui toda a informação presente nele pela nova \n",
    "-('a') APPEND Não cria o arquivo. Apenas adicona uma nov informação mo fim, mantendo as informações."
   ]
  }
 ],
 "metadata": {
  "kernelspec": {
   "display_name": "Python 3",
   "language": "python",
   "name": "python3"
  },
  "language_info": {
   "codemirror_mode": {
    "name": "ipython",
    "version": 3
   },
   "file_extension": ".py",
   "mimetype": "text/x-python",
   "name": "python",
   "nbconvert_exporter": "python",
   "pygments_lexer": "ipython3",
   "version": "3.13.2"
  }
 },
 "nbformat": 4,
 "nbformat_minor": 5
}
