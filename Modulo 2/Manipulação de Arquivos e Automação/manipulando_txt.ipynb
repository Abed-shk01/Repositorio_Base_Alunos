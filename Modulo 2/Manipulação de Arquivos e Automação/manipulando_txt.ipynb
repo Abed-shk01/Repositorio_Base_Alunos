{
 "cells": [
  {
   "cell_type": "code",
   "execution_count": null,
   "id": "dd248a8b",
   "metadata": {},
   "outputs": [],
   "source": [
    "arquivo = open('hello_world.txt', 'r')\n",
    "print(arquivo)"
   ]
  },
  {
   "cell_type": "markdown",
   "id": "e4f7724e",
   "metadata": {},
   "source": [
    "# Lendo um arquivo linha por linha"
   ]
  },
  {
   "cell_type": "code",
   "execution_count": null,
   "id": "e1475661",
   "metadata": {},
   "outputs": [],
   "source": [
    "with open('hello_world.txt', 'r') as f:\n",
    "    for linha in f:\n",
    "        print(linha)"
   ]
  },
  {
   "cell_type": "code",
   "execution_count": 2,
   "id": "b85083f1",
   "metadata": {},
   "outputs": [
    {
     "ename": "NameError",
     "evalue": "name 'arquivo' is not defined",
     "output_type": "error",
     "traceback": [
      "\u001b[31m---------------------------------------------------------------------------\u001b[39m",
      "\u001b[31mNameError\u001b[39m                                 Traceback (most recent call last)",
      "\u001b[36mCell\u001b[39m\u001b[36m \u001b[39m\u001b[32mIn[2]\u001b[39m\u001b[32m, line 1\u001b[39m\n\u001b[32m----> \u001b[39m\u001b[32m1\u001b[39m \u001b[38;5;28mtype\u001b[39m(\u001b[43marquivo\u001b[49m)\n",
      "\u001b[31mNameError\u001b[39m: name 'arquivo' is not defined"
     ]
    }
   ],
   "source": [
    "type(arquivo)"
   ]
  }
 ],
 "metadata": {
  "kernelspec": {
   "display_name": "Python 3",
   "language": "python",
   "name": "python3"
  },
  "language_info": {
   "codemirror_mode": {
    "name": "ipython",
    "version": 3
   },
   "file_extension": ".py",
   "mimetype": "text/x-python",
   "name": "python",
   "nbconvert_exporter": "python",
   "pygments_lexer": "ipython3",
   "version": "3.13.2"
  }
 },
 "nbformat": 4,
 "nbformat_minor": 5
}
